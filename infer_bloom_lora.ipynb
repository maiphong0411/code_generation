{
  "nbformat": 4,
  "nbformat_minor": 0,
  "metadata": {
    "colab": {
      "provenance": []
    },
    "kernelspec": {
      "name": "python3",
      "display_name": "Python 3"
    },
    "language_info": {
      "name": "python"
    }
  },
  "cells": [
    {
      "cell_type": "code",
      "execution_count": null,
      "metadata": {
        "id": "dCEKvhK6Zf_K"
      },
      "outputs": [],
      "source": [
        "!pip install -q peft transformers datasets"
      ]
    },
    {
      "cell_type": "code",
      "source": [
        "instruction = \"write a program to calculate arae of rectangle \"\n",
        "input = \"height = 6, width = 3\"\n",
        "template = {\"description\": \"Template used by Alpaca-LoRA.\",\n",
        "            \"prompt_input\": f\"Below is an instruction that describes a task, paired with an input that provides further context. Write a response that appropriately completes the request.\\n\\n### Instruction:\\n{instruction}\\n\\n### Input:\\n{input}\\n\\n### Response:\\n\",\n",
        "            \"prompt_no_input\": f\"Below is an instruction that describes a task. Write a response that appropriately completes the request.\\n\\n### Instruction:\\n{instruction}\\n\\n### Response:\\n\",\n",
        "            \"response_split\": \"### Response:\"}"
      ],
      "metadata": {
        "id": "T-7J9zxFZulM"
      },
      "execution_count": null,
      "outputs": []
    },
    {
      "cell_type": "code",
      "source": [
        "prompt = \"\"\n",
        "if input:\n",
        "  prompt = template['prompt_input']\n",
        "else:\n",
        "  prompt = template['prompt_no_input']\n",
        "\n"
      ],
      "metadata": {
        "id": "yOB7adGtaMxh"
      },
      "execution_count": null,
      "outputs": []
    },
    {
      "cell_type": "code",
      "source": [
        "from peft import PeftModel, PeftConfig\n",
        "from transformers import AutoModelForCausalLM, AutoTokenizer, default_data_collator, get_linear_schedule_with_warmup\n",
        "\n",
        "peft_model_id = \"phongmt184172/bloom_lora\"\n",
        "\n",
        "config = PeftConfig.from_pretrained(peft_model_id)\n",
        "print(config.base_model_name_or_path)\n",
        "model = AutoModelForCausalLM.from_pretrained(config.base_model_name_or_path)\n",
        "model = PeftModel.from_pretrained(model, peft_model_id)"
      ],
      "metadata": {
        "id": "y1TlCAePa85h"
      },
      "execution_count": null,
      "outputs": []
    },
    {
      "cell_type": "code",
      "source": [
        "print(model)"
      ],
      "metadata": {
        "id": "o7cljcbAbV1p"
      },
      "execution_count": null,
      "outputs": []
    },
    {
      "cell_type": "code",
      "source": [
        "tokenizer = AutoTokenizer.from_pretrained(config.base_model_name_or_path)"
      ],
      "metadata": {
        "id": "ld6-KB54bb3P"
      },
      "execution_count": null,
      "outputs": []
    },
    {
      "cell_type": "code",
      "source": [
        "input_ids = tokenizer(prompt, return_tensors=\"pt\", truncation=True).input_ids.cuda()\n",
        "outputs = model.generate(input_ids=input_ids, max_new_tokens=600, do_sample=True, top_p=0.9,temperature=0.3)\n",
        "\n",
        "# print(f\"Prompt:\\n{prompt}\\n\")\n",
        "print(f\"Generated instruction:\\n{tokenizer.batch_decode(outputs.detach().cpu().numpy(), skip_special_tokens=True)[0][len(prompt):]}\")"
      ],
      "metadata": {
        "id": "DAW7CRm9atj3"
      },
      "execution_count": null,
      "outputs": []
    }
  ]
}